{
 "cells": [
  {
   "cell_type": "markdown",
   "metadata": {},
   "source": [
    "# QOSF Mentorship Screening Task 2020\n",
    "## Task 2\n",
    "Find the lowest eigenvalue of the following matrix\n",
    "\n",
    "$\\begin{bmatrix}1 &0 &0 &0 \\\\ \n",
    "0 &0 &-1 &0 \\\\\n",
    "0 &-1 &0 &0 \\\\\n",
    "0 &0 &0 &1\n",
    "\\end{bmatrix}$\n",
    "\n",
    "\n",
    "using VQE-like circuits, created by yourself from scratch.\n",
    "\n",
    "**Solution** by Sadman Ahmed Shanto (Sept 2020)\n",
    "\n",
    "**Requirement must have pyquil, numpy, funcsigs, collections, typing, and matlplotlib libraries installed!**"
   ]
  },
  {
   "cell_type": "markdown",
   "metadata": {},
   "source": [
    "## High Level Structure of Solution\n",
    "* Break down matrix into weighted sums of Pauli terms\n",
    "* Define a sensible ansatz needed for state preparation (used the one provided in the hints)\n",
    "* Define methods to compute expected value from sum of Pauli terms\n",
    "* Compute the expectation values for $0 \\ge \\theta \\le 2\\pi$\n",
    "* The smallest eigenvalue is the ``` min(expected_values_list)```"
   ]
  },
  {
   "cell_type": "markdown",
   "metadata": {},
   "source": [
    "Implementing methods to calculate Hilbert-Schmidt-Product and Decompose the *4x4* Hermitian matrix into Pauli matrices"
   ]
  },
  {
   "cell_type": "code",
   "execution_count": 25,
   "metadata": {},
   "outputs": [],
   "source": [
    "import numpy as np\n",
    "\n",
    "def HS(M1, M2):\n",
    "    \"\"\"Hilbert-Schmidt-Product of two matrices M1, M2\"\"\"\n",
    "    return (np.dot(M1.conjugate().transpose(), M2)).trace()\n",
    "\n",
    "def c2s(c):\n",
    "    \"\"\"Return a string representation of a complex number c\"\"\"\n",
    "    if c == 0.0:\n",
    "        return \"0\"\n",
    "    if c.imag == 0:\n",
    "        return \"%g\" % c.real\n",
    "    elif c.real == 0:\n",
    "        return \"%gj\" % c.imag\n",
    "    else:\n",
    "        return \"%g+%gj\" % (c.real, c.imag)\n",
    "\n",
    "def decompose(H):\n",
    "    \"\"\"Decompose Hermitian 4x4 matrix H into Pauli matrices\"\"\"\n",
    "    from numpy import kron\n",
    "    sx = np.array([[0, 1],  [ 1, 0]], dtype=np.complex128)\n",
    "    sy = np.array([[0, -1j],[1j, 0]], dtype=np.complex128)\n",
    "    sz = np.array([[1, 0],  [0, -1]], dtype=np.complex128)\n",
    "    id = np.array([[1, 0],  [ 0, 1]], dtype=np.complex128)\n",
    "    S = [id, sx, sy, sz]\n",
    "    labels = ['I', 'sigma_x', 'sigma_y', 'sigma_z']\n",
    "    for i in range(4):\n",
    "        for j in range(4):\n",
    "            label = labels[i] + ' \\otimes ' + labels[j]\n",
    "            a_ij = 0.25 * HS(kron(S[i], S[j]), H)\n",
    "            if a_ij != 0.0:\n",
    "                print(\"%s\\t*\\t( %s )\" % (c2s(a_ij), label))"
   ]
  },
  {
   "cell_type": "markdown",
   "metadata": {},
   "source": [
    "Let M be the given matrix\n",
    "\n",
    "$$ M = \\begin{bmatrix}1 &0 &0 &0 \\\\ \n",
    "0 &0 &-1 &0 \\\\\n",
    "0 &-1 &0 &0 \\\\\n",
    "0 &0 &0 &1\n",
    "\\end{bmatrix}$$"
   ]
  },
  {
   "cell_type": "code",
   "execution_count": 138,
   "metadata": {},
   "outputs": [
    {
     "data": {
      "text/plain": [
       "array([[ 1,  0,  0,  0],\n",
       "       [ 0,  0, -1,  0],\n",
       "       [ 0, -1,  0,  0],\n",
       "       [ 0,  0,  0,  1]])"
      ]
     },
     "execution_count": 138,
     "metadata": {},
     "output_type": "execute_result"
    }
   ],
   "source": [
    "M = np.matrix([[1, 0, 0, 0], [0, 0, -1, 0],[0, -1, 0, 0],[0, 0, 0, 1]]).A\n",
    "M"
   ]
  },
  {
   "cell_type": "code",
   "execution_count": 139,
   "metadata": {},
   "outputs": [
    {
     "name": "stdout",
     "output_type": "stream",
     "text": [
      "0.5\t*\t( I \\otimes I )\n",
      "-0.5\t*\t( sigma_x \\otimes sigma_x )\n",
      "-0.5\t*\t( sigma_y \\otimes sigma_y )\n",
      "0.5\t*\t( sigma_z \\otimes sigma_z )\n"
     ]
    }
   ],
   "source": [
    "decompose(M)"
   ]
  },
  {
   "cell_type": "markdown",
   "metadata": {},
   "source": [
    "Thus, the given matrix is equal to $$ M = \\begin{bmatrix}1 &0 &0 &0 \\\\ \n",
    "0 &0 &-1 &0 \\\\\n",
    "0 &-1 &0 &0 \\\\\n",
    "0 &0 &0 &1\n",
    "\\end{bmatrix} = 0.5 \\sigma_i \\otimes \\sigma_i  - 0.5 \\sigma_x \\otimes \\sigma_x  - 0.5 \\sigma_y \\otimes \\sigma_y + 0.5 \\sigma_z \\otimes \\sigma_z $$\n",
    "\n",
    "Creating a PauliSum object in pyquil now."
   ]
  },
  {
   "cell_type": "code",
   "execution_count": 284,
   "metadata": {},
   "outputs": [
    {
     "data": {
      "text/plain": [
       "(0.5+0j)*I + (-0.5+0j)*X1*X0 + (-0.5+0j)*Y1*Y0 + (0.5+0j)*Z1*Z0"
      ]
     },
     "execution_count": 284,
     "metadata": {},
     "output_type": "execute_result"
    }
   ],
   "source": [
    "A = PauliSum([PauliTerm.from_list([(\"I\", 1), (\"I\", 0)], coefficient=0.5),\n",
    "              PauliTerm.from_list([(\"X\", 1), (\"X\", 0)], coefficient=-0.5),\n",
    "              PauliTerm.from_list([(\"Y\", 1), (\"Y\", 0)], coefficient=-0.5),\n",
    "              PauliTerm.from_list([(\"Z\", 1), (\"Z\", 0)], coefficient=0.5)\n",
    "             ])\n",
    "A"
   ]
  },
  {
   "cell_type": "markdown",
   "metadata": {},
   "source": [
    "Creating the necessary VQE quantum circuit using two qubits."
   ]
  },
  {
   "cell_type": "code",
   "execution_count": 285,
   "metadata": {},
   "outputs": [],
   "source": [
    "import numpy as np\n",
    "import funcsigs\n",
    "from collections import Counter\n",
    "from typing import List, Union\n",
    "from pyquil import Program\n",
    "from pyquil.api import QuantumComputer, WavefunctionSimulator\n",
    "from pyquil.api._qvm import QVM\n",
    "from pyquil.gates import RX, RY, MEASURE, STANDARD_GATES\n",
    "from pyquil.paulis import PauliTerm, PauliSum\n",
    "from pyquil import Program, get_qc\n",
    "from pyquil.gates import RX, I, H, CNOT, H\n",
    "\n",
    "# Create connection with QVM\n",
    "qc = get_qc('2q-qvm')"
   ]
  },
  {
   "cell_type": "markdown",
   "metadata": {},
   "source": [
    "Defining the ansatz provided in the hint. (I appreciate that)"
   ]
  },
  {
   "cell_type": "code",
   "execution_count": 286,
   "metadata": {},
   "outputs": [],
   "source": [
    "# Define ansatz\n",
    "n_qubits, depth = 2, 4\n",
    "\n",
    "def ansatz(params):\n",
    "    p = Program()\n",
    "    for i in range(depth):\n",
    "        for j in range(n_qubits):\n",
    "            p += Program(RX(params[j], j))\n",
    "        p += CNOT(1,0)\n",
    "        for j in range(n_qubits):\n",
    "            p += Program(H(j))\n",
    "    return p"
   ]
  },
  {
   "cell_type": "markdown",
   "metadata": {},
   "source": [
    "Defining the methods needed to calculate the expectation value from Pauli Sums and the necessary helper functions"
   ]
  },
  {
   "cell_type": "code",
   "execution_count": 287,
   "metadata": {},
   "outputs": [],
   "source": [
    "# Define expection and helper methods\n",
    "def expectation(pyquil_prog: Program,\n",
    "                    pauli_sum: Union[PauliSum, PauliTerm, np.ndarray],\n",
    "                    samples: int,\n",
    "                    qc: QuantumComputer) -> float:\n",
    "        if isinstance(pauli_sum, np.ndarray):\n",
    "            # debug mode by passing an array\n",
    "            wf = WavefunctionSimulator().wavefunction(pyquil_prog)\n",
    "            wf = np.reshape(wf.amplitudes, (-1, 1))\n",
    "            average_exp = np.conj(wf).T.dot(pauli_sum.dot(wf)).real\n",
    "            return average_exp\n",
    "        else:\n",
    "            if not isinstance(pauli_sum, (PauliTerm, PauliSum)):\n",
    "                raise TypeError(\"pauli_sum variable must be a PauliTerm or PauliSum object\")\n",
    "\n",
    "            if isinstance(pauli_sum, PauliTerm):\n",
    "                pauli_sum = PauliSum([pauli_sum])\n",
    "\n",
    "            if samples is None:\n",
    "                operator_progs = []\n",
    "                operator_coeffs = []\n",
    "                for p_term in pauli_sum.terms:\n",
    "                    op_prog = Program()\n",
    "                    for qindex, op in p_term:\n",
    "                        op_prog.inst(STANDARD_GATES[op](qindex))\n",
    "                    operator_progs.append(op_prog)\n",
    "                    operator_coeffs.append(p_term.coefficient)\n",
    "\n",
    "                result_overlaps = WavefunctionSimulator().expectation(pyquil_prog, pauli_sum.terms)\n",
    "                result_overlaps = list(result_overlaps)\n",
    "                assert len(result_overlaps) == len(operator_progs),\\\n",
    "                    \"\"\"Somehow we didn't get the correct number of results back from the QVM\"\"\"\n",
    "                expectation = sum(list(map(lambda x: x[0] * x[1],\n",
    "                                           zip(result_overlaps, operator_coeffs))))\n",
    "                return expectation.real\n",
    "            else:\n",
    "                if not isinstance(samples, int):\n",
    "                    raise TypeError(\"samples variable must be an integer\")\n",
    "                if samples <= 0:\n",
    "                    raise ValueError(\"samples variable must be a positive integer\")\n",
    "\n",
    "                # normal execution via fake sampling\n",
    "                # stores the sum of contributions to the energy from each operator term\n",
    "                expectation = 0.0\n",
    "                for j, term in enumerate(pauli_sum.terms):\n",
    "                    meas_basis_change = Program()\n",
    "                    qubits_to_measure = []\n",
    "                    if term.id() == \"\":\n",
    "                        meas_outcome = 1.0\n",
    "                    else:\n",
    "                        for index, gate in term:\n",
    "                            qubits_to_measure.append(index)\n",
    "                            if gate == 'X':\n",
    "                                meas_basis_change.inst(RY(-np.pi / 2, index))\n",
    "                            elif gate == 'Y':\n",
    "                                meas_basis_change.inst(RX(np.pi / 2, index))\n",
    "\n",
    "                            meas_outcome = \\\n",
    "                                expectation_from_sampling(pyquil_prog + meas_basis_change,\n",
    "                                                          qubits_to_measure,\n",
    "                                                          qc,\n",
    "                                                          samples)\n",
    "\n",
    "                    expectation += term.coefficient * meas_outcome\n",
    "\n",
    "                return expectation.real\n",
    "\n",
    "\n",
    "def expectation_from_sampling(pyquil_program: Program,\n",
    "                              marked_qubits: List[int],\n",
    "                              qc: QuantumComputer,\n",
    "                              samples: int) -> float:\n",
    "    program = Program()\n",
    "    ro = program.declare('ro', 'BIT', max(marked_qubits) + 1)\n",
    "    program += pyquil_program\n",
    "    program += [MEASURE(qubit, r) for qubit, r in zip(list(range(max(marked_qubits) + 1)), ro)]\n",
    "    program.wrap_in_numshots_loop(samples)\n",
    "    executable = qc.compile(program)\n",
    "    bitstring_samples = qc.run(executable)\n",
    "    bitstring_tuples = list(map(tuple, bitstring_samples))\n",
    "\n",
    "    freq = Counter(bitstring_tuples)\n",
    "\n",
    "    # perform weighted average\n",
    "    expectation = 0\n",
    "    for bitstring, count in freq.items():\n",
    "        bitstring_int = int(\"\".join([str(x) for x in bitstring[::-1]]), 2)\n",
    "        if parity_even_p(bitstring_int, marked_qubits):\n",
    "            expectation += float(count) / samples\n",
    "        else:\n",
    "            expectation -= float(count) / samples\n",
    "    return expectation\n",
    "            \n",
    "\n",
    "def parity_even_p(state, marked_qubits):\n",
    "    assert isinstance(state, int), \\\n",
    "        f\"{state} is not an integer. Must call parity_even_p with an integer state.\"\n",
    "    mask = 0\n",
    "    for q in marked_qubits:\n",
    "        mask |= 1 << q\n",
    "    return bin(mask & state).count(\"1\") % 2 == 0"
   ]
  },
  {
   "cell_type": "markdown",
   "metadata": {},
   "source": [
    "Defining the method needed to evaluate the QC with the given ansatz and the user defined parameter, $\\theta$."
   ]
  },
  {
   "cell_type": "code",
   "execution_count": 290,
   "metadata": {},
   "outputs": [],
   "source": [
    "# Function calculating expectation value\n",
    "def getExpectationValue(params):    \n",
    "    # Define program\n",
    "    prog = ansatz(params)\n",
    "    \n",
    "    # Calculate expectation\n",
    "    exp = expectation(prog,A,1,qc)\n",
    "    return exp"
   ]
  },
  {
   "cell_type": "markdown",
   "metadata": {},
   "source": [
    "Passing $\\theta$ in range $[0 , 2\\pi]$ into the ansatz and making evaluations of the circuit. Later, plotting the graph and sorting the stored evalulated values array. The smallest eigenvalue is the the smallest of these evaluated values."
   ]
  },
  {
   "cell_type": "code",
   "execution_count": 289,
   "metadata": {},
   "outputs": [
    {
     "name": "stderr",
     "output_type": "stream",
     "text": [
      "/Users/sshanto/anaconda3/lib/python3.8/site-packages/pyquil/paulis.py:183: FutureWarning: `PauliTerm.id()` will not work on PauliTerms where the qubits are not sortable and should be avoided in favor of `operations_as_set`.\n",
      "  warnings.warn(\n"
     ]
    },
    {
     "data": {
      "image/png": "[encoded data removed]",
      "text/plain": [
       "<Figure size 432x288 with 1 Axes>"
      ]
     },
     "metadata": {
      "needs_background": "light"
     },
     "output_type": "display_data"
    },
    {
     "name": "stdout",
     "output_type": "stream",
     "text": [
      "The lowest eigenvalue is -1.0\n"
     ]
    }
   ],
   "source": [
    "# Draw expectation alue against parameter value\n",
    "params_range = np.linspace(0.0, 2 * np.pi, 25)\n",
    "data = [getExpectationValue([params,params]) for params in params_range]\n",
    "\n",
    "import matplotlib.pyplot as plt\n",
    "plt.xlabel('Parameter value')\n",
    "plt.ylabel('Expectation value')\n",
    "plt.plot(params_range, data)\n",
    "plt.show()\n",
    "\n",
    "data.sort()\n",
    "print(\"The lowest eigenvalue is {}\".format(data[0]))"
   ]
  },
  {
   "cell_type": "code",
   "execution_count": 278,
   "metadata": {},
   "outputs": [
    {
     "name": "stdout",
     "output_type": "stream",
     "text": [
      "We know from basic linear algebra that the lowest eigenvalue for M is -1.0\n"
     ]
    }
   ],
   "source": [
    "from numpy import linalg as LA\n",
    "\n",
    "evs = LA.eig(M)\n",
    "evs[0].sort()\n",
    "print(\"We know from basic linear algebra that the lowest eigenvalue for M is {}\".format(evs[0][0]))"
   ]
  },
  {
   "cell_type": "markdown",
   "metadata": {},
   "source": [
    "## Conclusion\n",
    "\n",
    "As evident from the plot and the analysis presented above, this notebook contains a working VQE for finding the minimum eigenvalue for a given Matrix/Hamiltonian. This value was also shown to be accurate using basic linear algebra formulation.\n",
    "\n",
    "The lowest eigenvalue, $\\lambda_0$, was found to be $-1$ for the matrix $M = \\begin{bmatrix}1 &0 &0 &0 \\\\ \n",
    "0 &0 &-1 &0 \\\\\n",
    "0 &-1 &0 &0 \\\\\n",
    "0 &0 &0 &1\n",
    "\\end{bmatrix}$."
   ]
  },
  {
   "cell_type": "markdown",
   "metadata": {},
   "source": [
    "### PS\n",
    "\n",
    "Hi to-whoever-at-QOSF-team-reading-this :),\n",
    "\n",
    "I wanted to clarify one thing. I applied for the program on 09/05 which means I had to turn in my attempt by 09/19 since we were given two weeks. So now a linear combination of three different events conspired in making me miss the deadline. \n",
    "\n",
    "1) I didn't complete the task in the week of applying because I am indeed human (lazy by nature) and I wanted to tackle the problem in the second week. Plus, I had my GRE that same week and I was preparing for that (the first statement should make it clear why I HAD to put in time for the GRE).\n",
    "\n",
    "\n",
    "2) My roommate and girlfriend got diagnosed with covid around day 6 after I applied. Taking care of them, quarantining and making arrangements at work took longer than I accounted for.\n",
    "\n",
    "\n",
    "3) This is really the main reason, points 1 and 2 contributed little to the event. As embarassing it may be, I really am this dumb sometimes.... In my head when I looked at the date - 09/05/2020 - I registered that I applied on the *9th* and hence I have time till the *23rd*. So naturally, I started tackling the problem on the **20th** night time thinking I can do it and turn it in a day or 2 in advance only to reread the email and curse myself. Nevertheless, I still wanted to turn it in anyways, partly because I was really looking to learn more about this problem and actually do it and mostly because I really want to be a part of this program. \n",
    "\n",
    "I really hope my work gets accepted for screening and also that you/y'all are staying well and safe.\n",
    "\n",
    "Best,\n",
    "\n",
    "Sadman Ahmed Shanto"
   ]
  }
 ],
 "metadata": {
  "kernelspec": {
   "display_name": "Python 3",
   "language": "python",
   "name": "python3"
  },
  "language_info": {
   "codemirror_mode": {
    "name": "ipython",
    "version": 3
   },
   "file_extension": ".py",
   "mimetype": "text/x-python",
   "name": "python",
   "nbconvert_exporter": "python",
   "pygments_lexer": "ipython3",
   "version": "3.8.3"
  }
 },
 "nbformat": 4,
 "nbformat_minor": 4
}
